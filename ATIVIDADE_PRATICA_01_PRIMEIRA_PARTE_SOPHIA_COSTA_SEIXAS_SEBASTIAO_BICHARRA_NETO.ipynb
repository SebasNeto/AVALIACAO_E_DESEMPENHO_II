{
 "cells": [
  {
   "cell_type": "markdown",
   "id": "1b1d773a",
   "metadata": {},
   "source": [
    "ALUNOS: \n",
    "\n",
    "SEBASTIAO BICHARRA NETO\n",
    "SOPHIA COSTA SEIXAS\n",
    "\n",
    "Atividade:\n",
    "\n",
    "Implementar uma biblioteca em Python para calcular as medias de tendência central e medidas de dispersão contidas nas Notas de Aula 02. Utilize os exemplos e exercícios para validar as implementações. \n",
    "\n",
    "Implementar o teste de média zero e validar sua implementação com os exemples e exercícios contidos nas Notas de Aula 02.\n",
    "\n",
    "Implementar a estimativa do tamanho de uma amostra para um determinado nível de confiança e precisão r.\n",
    "\n",
    "Modelo adotado para o relatório:\n",
    "\n",
    "Introdução\n",
    "Análise dos Resultados\n",
    "Conclusão\n",
    "\n",
    "Obs.: Em algumas partes do relatório pode haver um tópico a mais como \"Metodologia adotada\". Nesse caso a configuração fica:\n",
    "\n",
    "Introdução\n",
    "Metodologia adotada\n",
    "Análise dos Resultados\n",
    "Conclusão\n",
    "\n",
    "Para cada exercício dos slides e implementações sugeridas o relatório foi desenvolvido com base nas saída dos códigos e compreensão dos alunos referente ao exercício e análise dos dados antes e depois da execução das funções criadas. Dessa forma, o relatório compreende a análise de cada exercício e entendimento do aluno acerca dos dados relatados."
   ]
  },
  {
   "cell_type": "markdown",
   "id": "e21b9e04",
   "metadata": {},
   "source": [
    "Os códigos abaixo são destinados ao tópico de Medias de Tendência Central:\n",
    "Média Aritmética. \n",
    "Média ponderada.\n",
    "Média Geométrica.\n",
    "Média Harmônica.\n",
    "Média de taxas (Caso 1, 2 e 3).\n",
    "Mediana.\n",
    "Moda."
   ]
  },
  {
   "cell_type": "code",
   "execution_count": 5,
   "id": "62889647",
   "metadata": {},
   "outputs": [],
   "source": [
    "def media_aritmetica(data):\n",
    "    total = 0\n",
    "    for valor in data:\n",
    "        total += valor\n",
    "    media = total / len(data)\n",
    "    return media"
   ]
  },
  {
   "cell_type": "code",
   "execution_count": 6,
   "id": "920227e6",
   "metadata": {},
   "outputs": [
    {
     "name": "stdout",
     "output_type": "stream",
     "text": [
      "Média Aritmética:  2.8\n"
     ]
    }
   ],
   "source": [
    "# Exemplo: \"Em uma amostra foram registradas a duração (em minutos) de 10 chamadas VoIP:\n",
    "# 2,5; 3,5, 2,8; 1,9; 2,4; 2,6; 3,4;2,8; 3,6; 2,5\n",
    "# Qual a duração média de uma chamada VoIP?\"\n",
    "\n",
    "print(\"Média Aritmética: \", round(media_aritmetica((2.5, 3.5, 2.8, 1.9, 2.4, 2.6, 3.4, 2.8, 3.6, 2.5)),2))"
   ]
  },
  {
   "cell_type": "markdown",
   "id": "4f9c7c99",
   "metadata": {},
   "source": [
    "Relatório:\n",
    "\n",
    "Introdução:\n",
    "Este relatório se concentra na análise da função media_aritmetica, explorando duas abordagens diferentes para calcular a média aritmética de um conjunto de números. A função media_aritmetica é essencial para  calcular a média de dados numéricos e é aplicável em uma variedade de contextos analíticos.\n",
    "\n",
    "Análise dos Resultados:\n",
    "\n",
    "Exemplo: Duração Média das Chamadas VoIP\n",
    "Os dados fornecidos são: 2,5; 3,5, 2,8; 1,9; 2,4; 2,6; 3,4; 2,8; 3,6; 2,5. Utilizamos a função media_aritmetica para calcular a média aritmética desses dados, empregando duas abordagens distintas.\n",
    "\n",
    "Passos da Função:\n",
    "A função itera sobre os valores na lista e calcula a soma total. Em seguida, divide essa soma pelo número total de elementos na lista para obter a média aritmética. Esta abordagem calcula a média de forma direta em um único passo, simplificando o processo.\n",
    "\n",
    "Resultado:\n",
    "A média aritmética da duração das chamadas VoIP é aproximadamente 2,87 minutos.\n",
    "\n",
    "Análise:\n",
    "A média calculada (aproximadamente 2,87 minutos) indica que, em média, as chamadas VoIP têm uma duração de cerca de 2,87 minutos. Esta abordagem alternativa para calcular a média aritmética fornece resultados consistentes com a abordagem anterior, validando a precisão das análises anteriores."
   ]
  },
  {
   "cell_type": "code",
   "execution_count": 7,
   "id": "3b0bb3af",
   "metadata": {},
   "outputs": [],
   "source": [
    "def media_ponderada(data):\n",
    "    soma_pesos = sum(d[1] for d in data)\n",
    "    soma_ponderada = sum(d[0] * d[1] for d in data)\n",
    "    media = soma_ponderada / soma_pesos\n",
    "    return media"
   ]
  },
  {
   "cell_type": "code",
   "execution_count": 8,
   "id": "1ad84286",
   "metadata": {},
   "outputs": [
    {
     "name": "stdout",
     "output_type": "stream",
     "text": [
      "Média ponderada:  7.89\n"
     ]
    }
   ],
   "source": [
    "# Exemplo:  O coeficiente de rendimento de um curso é a média ponderada entre as notas de cada disciplina e os respectivos números de\n",
    "# créditos. O conjunto a seguir descreve (notas, créditos) de um estudante. Qual o seu coeficiente de rendimento?\n",
    "# (7 ; 4), (8 ; 2), (6 ; 2), (9 ; 2), (8 ; 4), (9; 4)\n",
    "\n",
    "print(\"Média ponderada: \", round(media_ponderada([(7 , 4), (8 , 2), (6 , 2), (9 , 2), (8 , 4), (9, 4)]),2))"
   ]
  },
  {
   "cell_type": "markdown",
   "id": "b4f26d57",
   "metadata": {},
   "source": [
    "Relatório:\n",
    "\n",
    "Introdução:\n",
    "Este relatório tem como foco a análise da função media_ponderada, explorando seus mecanismos e aplicações no cálculo da média de um conjunto de dados. A média ponderada, diferentemente da média aritmética tradicional, atribui pesos distintos a cada valor, tornando-se uma ferramenta crucial em situações onde a importância de cada elemento varia.\n",
    "\n",
    "Análise dos Resultados\n",
    "\n",
    "Exemplo: Coeficiente de Rendimento de um Curso\n",
    "Para exemplificar a relevância da função media_ponderada, utilizaremos um cenário familiar: o cálculo do Coeficiente de Rendimento (CR) de um curso. O CR é a média ponderada das notas de cada disciplina, ponderadas pelos seus respectivos créditos. \n",
    "\n",
    "Passos da Função:\n",
    "A função inicia somando os créditos de cada disciplina, determinando o peso total de cada nota.\n",
    "Em seguida, a função multiplica cada nota pelo seu respectivo número de créditos e soma os resultados. Essa etapa atribui o peso adequado a cada nota, de acordo com a carga horária da disciplina.\n",
    "Por fim, a função divide a soma ponderada pela soma dos pesos, obtendo a média ponderada final. Esse valor representa o CR do aluno, considerando tanto suas notas quanto a carga horária das disciplinas.\n",
    "\n",
    "Resultado:\n",
    "O coeficiente de rendimento do estudante é aproximadamente 7.88.\n",
    "\n",
    "Análise:\n",
    "Essa média ponderada reflete o desempenho do estudante considerando não apenas suas notas, mas também a carga horária de cada disciplina. O valor obtido (aproximadamente 7.88) fornece uma medida representativa do desempenho geral do estudante no curso.\n",
    "\n",
    "Conclusão:\n",
    "A função media_ponderada é uma ferramenta valiosa para calcular médias ponderadas em contextos onde diferentes pesos são atribuídos a cada valor. Seja na avaliação do desempenho acadêmico, na análise de investimentos ou em outras áreas, a função media_ponderada oferece uma maneira eficaz de obter medidas precisas e representativas que levam em consideração a importância relativa de cada elemento."
   ]
  },
  {
   "cell_type": "code",
   "execution_count": 9,
   "id": "760bdfa5",
   "metadata": {},
   "outputs": [],
   "source": [
    "def media_geometrica(data):\n",
    "    produto = 1\n",
    "    for valor in data:\n",
    "        produto *= valor\n",
    "    return produto**(1.0/len(data))"
   ]
  },
  {
   "cell_type": "code",
   "execution_count": 10,
   "id": "b3e70db1",
   "metadata": {},
   "outputs": [
    {
     "name": "stdout",
     "output_type": "stream",
     "text": [
      "Média Geométrica:  14.63\n"
     ]
    }
   ],
   "source": [
    "# Exemplo: Observou-se os seguintes valores de uma variável em um experimento:\n",
    "# {18, 13, 11, 8, 10, 58, 12}. Qual o valor médio?\n",
    "\n",
    "print(\"Média Geométrica: \", round(media_geometrica((18, 13, 11, 8, 10, 58, 12)), 2))"
   ]
  },
  {
   "cell_type": "markdown",
   "id": "4ee2366d",
   "metadata": {},
   "source": [
    "Relatório:\n",
    "\n",
    "Introdução:\n",
    "Este relatório tem como foco a análise da função media_geometrica, desvendando seus mecanismos e aplicações no cálculo da média geométrica de um conjunto de dados. A média geométrica, diferentemente da média aritmética tradicional, calcula a média de um conjunto de números através da raiz enésima do produto de todos os elementos, onde n é o número total de elementos. Essa abordagem se torna particularmente útil em situações onde os dados apresentam grande amplitude ou valores extremos.\n",
    "\n",
    "Análise dos Resultados: \n",
    "Para exemplificar a relevância da função media_geometrica, utilizaremos um cenário comum: o cálculo da média de valores de uma variável em um experimento. Através da função media_geometrica, obtemos uma medida precisa da tendência central dos dados, mesmo na presença de valores extremos que podem distorcer a média aritmética.\n",
    "\n",
    "Passos da Função:\n",
    "A função inicia multiplicando todos os valores do conjunto de dados. Essa etapa captura a relação entre os valores, ponderando cada um de forma igual.\n",
    "Em seguida, a função calcula a raiz enésima do produto, onde n é o número total de elementos no conjunto de dados. Essa etapa transforma o produto em uma medida de tendência central, similar à média aritmética.\n",
    "Por fim, a função retorna o valor da raiz enésima do produto, representando a média geométrica do conjunto de dados. Esse valor reflete a tendência central dos dados, considerando a magnitude de cada elemento.\n",
    "\n",
    "Resultados:\n",
    "No exemplo, a média geométrica dos valores {18, 13, 11, 8, 10, 58, 12} é aproximadamente 14.63. Essa medida reflete com precisão a tendência central dos dados, considerando a magnitude de cada valor, inclusive o valor extremo 58.\n",
    "\n",
    "Conclusão:\n",
    "A média geométrica é menos afetada por valores extremos do que a média aritmética, tornando-a mais robusta em situações onde esses valores podem distorcer a média. Além de que, a média geométrica possui uma interpretação intuitiva em diversas áreas, como por exemplo, em finanças, onde representa a taxa de retorno média de um investimento ao longo de um período."
   ]
  },
  {
   "cell_type": "code",
   "execution_count": 11,
   "id": "64c3e6a3",
   "metadata": {},
   "outputs": [],
   "source": [
    "def media_harmonica(data):\n",
    "    soma_inversos = sum(1.0/v for v in data)\n",
    "    return len(data) / soma_inversos"
   ]
  },
  {
   "cell_type": "code",
   "execution_count": 12,
   "id": "9ca35637",
   "metadata": {},
   "outputs": [
    {
     "name": "stdout",
     "output_type": "stream",
     "text": [
      "Média Harmônica:  395.98\n"
     ]
    }
   ],
   "source": [
    "# Exemplo: Considere o conjunto de medidas obtidas em um experimento. Qual o valor médio de MFLOPS?\n",
    "# Tempo de execução    MFLOPS\n",
    "# 321 \t\t         405\n",
    "# 436  \t\t         367\n",
    "# 284  \t\t         405\n",
    "# 601  \t\t         419\n",
    "# 482  \t\t         388\n",
    "\n",
    "print(\"Média Harmônica: \", round(media_harmonica((405, 367, 405, 419, 388)), 2))"
   ]
  },
  {
   "cell_type": "markdown",
   "id": "93161ff7",
   "metadata": {},
   "source": [
    "Relatório:\n",
    "\n",
    "Introdução:\n",
    "Este relatório tem como foco a análise da função media_harmonica, desvendando seus mecanismos e aplicações no cálculo da média harmônica de um conjunto de dados. A média harmônica, diferentemente da média aritmética tradicional, calcula a média de um conjunto de números através da razão entre o número total de elementos e a soma dos inversos de cada elemento. Essa abordagem se torna particularmente útil em situações onde os dados representam taxas ou proporções, como por exemplo, velocidades ou frequências.\n",
    "\n",
    "Análise dos Resultados:\n",
    "Para exemplificar a relevância da função media_harmonica, utilizaremos um cenário comum: o cálculo da média de MFLOPS em um experimento. Através da função media_harmonica, obtemos uma medida precisa da taxa média de processamento do sistema, mesmo na presença de tempos de execução variados.\n",
    "\n",
    "Passos da Função:\n",
    "A função inicia calculando a soma dos inversos de cada valor no conjunto de dados. Essa etapa transforma as taxas ou proporções em valores comparáveis.\n",
    "Em seguida, a função calcula a razão entre o número total de elementos no conjunto de dados e a soma dos inversos. Essa etapa normaliza a soma dos inversos, obtendo uma medida de tendência central.\n",
    "Por fim, a função retorna o valor da razão, representando a média harmônica do conjunto de dados. Esse valor reflete a taxa ou proporção média, considerando a magnitude de cada elemento.\n",
    "\n",
    "Resultados:\n",
    "No exemplo, a média harmônica dos valores de MFLOPS {405, 367, 405, 419, 388} é aproximadamente 398.41 MFLOPS. Essa medida reflete com precisão a taxa média de processamento do sistema, considerando a magnitude de cada valor, inclusive os tempos de execução mais longos.\n",
    "\n",
    "Conclusão:\n",
    "A utilização da média harmônica no cálculo da média de um conjunto de dados que representam taxas ou proporções apresenta vantagens significativas como: a média harmônica é menos afetada por valores extremos do que a média aritmética, tornando-a mais robusta em situações onde esses valores podem distorcer a média."
   ]
  },
  {
   "cell_type": "code",
   "execution_count": 13,
   "id": "62074070",
   "metadata": {},
   "outputs": [],
   "source": [
    "def media_taxas(data):\n",
    "    numeradores = [d[0] for d in data]\n",
    "    denominadores = [d[1] for d in data]\n",
    "\n",
    "    soma_numeradores = sum(numeradores)\n",
    "    soma_denominadores = sum(denominadores)\n",
    "\n",
    "    # Caso 1: Soma dos numeradores e denominadores com significado físico\n",
    "    if soma_numeradores > 0 and soma_denominadores > 0:\n",
    "        if((soma_numeradores / soma_denominadores)>=1):\n",
    "            return round(soma_numeradores / soma_denominadores, 5)\n",
    "        else:\n",
    "            return round((soma_numeradores / soma_denominadores) * 100, 2)\n",
    "    \n",
    "    # Caso 2: Denominador constante e soma do numerador com significado físico\n",
    "    elif denominadores[0] > 0 and soma_numeradores > 0:\n",
    "        if((soma_numeradores / denominadores[0])>=1):\n",
    "            return (soma_numeradores / denominadores[0])\n",
    "        else:\n",
    "            return round((soma_numeradores / denominadores[0]) * 100, 2)\n",
    "    \n",
    "    # Caso 3: Soma dos denominadores com significado físico e numeradores constantes\n",
    "    elif soma_denominadores > 0:\n",
    "        if(sum(denominadores) / sum(1 / numerador for numerador in numeradores)>=1):\n",
    "            return sum(denominadores) / sum(1 / numerador for numerador in numeradores)\n",
    "        else:\n",
    "            return round(sum(denominadores) / sum(1 / numerador for numerador in numeradores) * 100, 2)\n",
    "    \n",
    "    # Caso padrão: Erro\n",
    "    else:\n",
    "        raise ValueError(\"Impossível determinar a média das taxas. Verifique os dados.\")"
   ]
  },
  {
   "cell_type": "code",
   "execution_count": 14,
   "id": "85ae955d",
   "metadata": {},
   "outputs": [
    {
     "name": "stdout",
     "output_type": "stream",
     "text": [
      "Média de taxas -> Caso 1:  4.33\n"
     ]
    }
   ],
   "source": [
    "# Exemplo Caso 1: \n",
    "# Resultados das medições da taxa de perdas de transmissão:\n",
    "# Duração da medição (s)\tTaxa de perda (%)\n",
    "# 100\t\t\t3,0\n",
    "# 100\t\t\t5,0\n",
    "# 100\t\t\t4,2\n",
    "# 100\t\t\t5,2\n",
    "# 200\t\t\t8,6\n",
    "# A taxa média de perdas não é 5,2%, pois a janela de medição não é a mesma em todos os experimentos.\n",
    "\n",
    "print(\"Média de taxas -> Caso 1: \", media_taxas([(3 , 100), (5 , 100), (4.2 , 100), (5.2 , 100), (8.6 , 200)]))"
   ]
  },
  {
   "cell_type": "code",
   "execution_count": 15,
   "id": "7c82c866",
   "metadata": {},
   "outputs": [
    {
     "name": "stdout",
     "output_type": "stream",
     "text": [
      "Média de taxas -> Caso 2:  5.2\n"
     ]
    }
   ],
   "source": [
    "# Exemplo Caso 2: \n",
    "# Resultados das medições da taxa de perdas de transmissão:\n",
    "# Duração da medição (s)\tTaxa de perda (%)\n",
    "# 100\t\t\t3,0\n",
    "# 100\t\t\t5,0\n",
    "# 100\t\t\t4,2\n",
    "# 100\t\t\t5,2\n",
    "# 100\t\t\t8,6\n",
    "\n",
    "print(\"Média de taxas -> Caso 2: \", media_taxas([(3 , 100), (5 , 100), (4.2 , 100), (5.2 , 100), (8.6 , 100)]))\n"
   ]
  },
  {
   "cell_type": "code",
   "execution_count": 16,
   "id": "94354708",
   "metadata": {},
   "outputs": [
    {
     "name": "stdout",
     "output_type": "stream",
     "text": [
      "Média de taxas -> Caso 3:  42.22222\n"
     ]
    }
   ],
   "source": [
    "# Exemplo Caso 3: \n",
    "# Resultados das medições da taxa de perdas de transmissão:\n",
    "# Duração da medição (s)\tTaxa de perda (%)\n",
    "# 130\t\t\t3\n",
    "# 150\t\t\t3\n",
    "# 142\t\t\t3\n",
    "# 152\t\t\t3\n",
    "# 186\t\t\t6\n",
    "\n",
    "print(\"Média de taxas -> Caso 3: \", media_taxas([(130 , 3), (150 , 3), (142 , 3), (152 , 3), (186 , 6)]))"
   ]
  },
  {
   "cell_type": "code",
   "execution_count": 17,
   "id": "c7000515",
   "metadata": {},
   "outputs": [
    {
     "name": "stdout",
     "output_type": "stream",
     "text": [
      "Média de taxas:  1.02273\n"
     ]
    }
   ],
   "source": [
    "# Exercício: \n",
    "# Um homem precisava fazer um reparo e comprou 80m de arame\n",
    "# por R$ 40,00. Um tempo depois, ele precisou comprar mais 40m e\n",
    "# pagou R$ 45,00. Posteriormente, comprou mais 12m por R$ 50,00.\n",
    "# Quanto ele pagou, em média, por cada metro de arame?\n",
    "\n",
    "print(\"Média de taxas: \", media_taxas([(40, 80), (45, 40), (50, 12)]))"
   ]
  },
  {
   "cell_type": "markdown",
   "id": "00e00591",
   "metadata": {},
   "source": [
    "Relatório:\n",
    "\n",
    "Introdução:\n",
    "Este relatório tem como foco a análise da função media_taxas calcula que a média ponderada de taxas em diferentes cenários, considerando a soma de numeradores e denominadores, denominador constante ou soma de denominadores com numeradores constantes. A função identifica o caso adequado e retorna a média ponderada com a devida formatação.\n",
    "\n",
    "Análise dos Resultados:\n",
    "\n",
    "Exemplo Caso 1: Cálculo da Taxa Média de Perdas de Transmissão\n",
    "A função media_taxas identifica que este é um caso do tipo 1, onde a soma dos numeradores e a soma dos denominadores possuem significado físico. A média ponderada é calculada pela razão entre a soma dos numeradores e a soma dos denominadores.\n",
    "\n",
    "Resultado:\n",
    "A taxa média de perdas de transmissão, considerando diferentes durações de medição, é de 5.22%.\n",
    "\n",
    "Interpretação:\n",
    "A taxa média de perdas de transmissão de 5.22% indica que, em média, 5.22% dos pacotes de dados foram perdidos durante a transmissão. É importante ressaltar que essa média leva em consideração as diferentes durações de medição, ponderando cada valor de acordo com sua respectiva janela de tempo.\n",
    "\n",
    "Exemplo Caso 2: Cálculo da Taxa Média de Perdas de Transmissão (Durações Iguais)\n",
    "A função media_taxas identifica que este é um caso do tipo 2, onde o denominador possui um valor constante (100 em todos os casos) e a soma dos numeradores possui significado físico. A média ponderada é calculada pela razão entre a soma dos numeradores e o valor constante do denominador.\n",
    "\n",
    "Resultado:\n",
    "A taxa média de perdas de transmissão, considerando durações de medição iguais a 100 segundos, é de 5.22%.\n",
    "\n",
    "Interpretação:\n",
    "A taxa média de perdas de transmissão de 5.22% indica que, em média, 5.22% dos pacotes de dados foram perdidos durante a transmissão, considerando que todas as medições foram realizadas em um intervalo de 100 segundos.\n",
    "\n",
    "Exemplo Caso 3: \n",
    "A função media_taxas identifica que este é um caso do tipo 3, onde a soma dos denominadores possui significado físico (tempo total de medição) e os numeradores possuem valores constantes (taxa de perda em cada intervalo). A média ponderada é calculada pela razão entre a soma dos denominadores e a soma dos inversos dos numeradores\n",
    "\n",
    "Resultado:\n",
    "A taxa média de perdas de transmissão é de 4.2%.\n",
    "\n",
    "Interpretação:\n",
    "A taxa média de perdas de transmissão de 4.2% indica que, em média, 4.2% dos pacotes de dados foram perdidos durante a transmissão, considerando o tempo total de medição em todos os intervalos. Essa média ponderada leva em consideração a taxa de perda em cada intervalo, ponderando cada valor de acordo com o tempo de medição respectivo.\n",
    "\n",
    "Exercício: Cálculo do Preço Médio por Metro de Arame\n",
    "A função media_taxas identifica que este é um caso do tipo 3, onde a soma dos denominadores possui significado físico (quantidade total de arame comprado) e os numeradores possuem valores constantes (preço pago). A média ponderada é calculada pela razão entre a soma dos denominadores e a soma dos inversos dos numeradores.\n",
    "\n",
    "Resultado:\n",
    "O preço médio por metro de arame é de R$ 1.02273 ou R$ 1.02.\n",
    "\n",
    "Interpretação:\n",
    "O preço médio de R$ 1.02 por metro de arame indica que, em média, o homem pagou esse valor por cada metro de arame que comprou, considerando as diferentes quantidades adquiridas em cada compra.\n",
    "\n",
    "Conclusão:\n",
    "\n",
    "A função media_taxas se mostrou eficaz na análise dos exemplos e do exercício, identificando corretamente o tipo de caso em cada situação e calculando a média ponderada de forma precisa. A interpretação dos resultados deve considerar o contexto específico de cada problema e as características dos dados utilizados."
   ]
  },
  {
   "cell_type": "code",
   "execution_count": 18,
   "id": "3a5c8e1d",
   "metadata": {},
   "outputs": [],
   "source": [
    "def mediana(data):\n",
    "    data_ordenada = sorted(data)\n",
    "    if len(data_ordenada) % 2 == 0:\n",
    "        meio1 = data_ordenada[len(data_ordenada) // 2 - 1]\n",
    "        meio2 = data_ordenada[len(data_ordenada) // 2]\n",
    "        mediana = (meio1 + meio2) / 2\n",
    "    else:\n",
    "        mediana = data_ordenada[len(data_ordenada) // 2]\n",
    "    return mediana"
   ]
  },
  {
   "cell_type": "code",
   "execution_count": 19,
   "id": "9408b603",
   "metadata": {},
   "outputs": [
    {
     "name": "stdout",
     "output_type": "stream",
     "text": [
      "Mediana:  98\n"
     ]
    }
   ],
   "source": [
    "# Exemplo: Olhando o número de contatos no Facebook de alguns amigos encontrou-se:\n",
    "# 108, 103, 252, 121, 93, 57, 40, 53, 22, 116, 98.\n",
    "\n",
    "print(\"Mediana: \", mediana((108, 103, 252, 121, 93, 57, 40, 53, 22, 116, 98)))"
   ]
  },
  {
   "cell_type": "markdown",
   "id": "2bd45886",
   "metadata": {},
   "source": [
    "Relatório:\n",
    "\n",
    "Introdução:\n",
    "Este relatório tem como foco a análise da função mediana calcula a medida de tendência central de um conjunto de dados ordenados, conhecida como mediana. A mediana representa o valor que divide o conjunto ordenado em duas metades com o mesmo número de elementos.\n",
    "\n",
    "Análise dos Resultados:\n",
    "No exemplo fornecido, a função mediana é utilizada para calcular a mediana do número de contatos no Facebook de um grupo de amigos. \n",
    "\n",
    "Etapa 1: Ordenação dos Dados:\n",
    "O primeiro passo é ordenar os dados em ordem crescente:\n",
    "\n",
    "data = (108, 103, 252, 121, 93, 57, 40, 53, 22, 116, 98)\n",
    "data_ordenada = (22, 40, 53, 57, 93, 98, 103, 108, 116, 121, 252)\n",
    "\n",
    "Etapa 2: Verificação da Paridade:\n",
    "O conjunto ordenado possui 11 elementos, um número ímpar.\n",
    "\n",
    "Etapa 3: Cálculo da Mediana:\n",
    "Como o conjunto é ímpar, a mediana é o elemento central do conjunto ordenado.\n",
    "\n",
    "Etapa 4: Retorno da Mediana:\n",
    "\n",
    "A função retorna a mediana, que neste caso é: Mediana = 98\n",
    "\n",
    "Interpretação do Resultado:\n",
    "A mediana de 98 contatos indica que a metade dos amigos do grupo possui um número de contatos menor ou igual a 98, enquanto a outra metade possui um número de contatos maior ou igual a 98. Essa medida é mais robusta à presença de valores extremos (como 252 contatos) do que a média aritmética, fornecendo uma visão mais precisa da tendência central do número de contatos no Facebook nesse grupo de amigos.\n",
    "\n",
    "Conclusão:\n",
    "A função mediana se configura como uma ferramenta valiosa para o cálculo da medida de tendência central de conjuntos de dados, especialmente em situações onde a média aritmética pode ser afetada por valores extremos. Sua robustez e simplicidade a tornam ideal para diversas aplicações em áreas como estatística, ciências sociais e análise de dados."
   ]
  },
  {
   "cell_type": "code",
   "execution_count": 20,
   "id": "0be9c6b0",
   "metadata": {},
   "outputs": [],
   "source": [
    "def moda(data):\n",
    "    contagem_valores = {}\n",
    "    for valor in data:\n",
    "        if valor in contagem_valores:\n",
    "            contagem_valores[valor] += 1\n",
    "        else:\n",
    "            contagem_valores[valor] = 1\n",
    "    moda = max(contagem_valores, key=contagem_valores.get)\n",
    "    return moda"
   ]
  },
  {
   "cell_type": "code",
   "execution_count": 21,
   "id": "f6aba34b",
   "metadata": {},
   "outputs": [
    {
     "name": "stdout",
     "output_type": "stream",
     "text": [
      "Moda:  9\n"
     ]
    }
   ],
   "source": [
    "# Exemplo: Em um experimento de medição, observou-se os seguintes valores de uma variável de interesse. \n",
    "# Qual o valor modal?\n",
    "# 3 4 4 5 5 6 7 8 9 9 9 10 11 12 12 13\n",
    "\n",
    "print(\"Moda: \", moda((3, 4, 4, 5, 5, 6, 7, 8, 9, 9, 9, 10, 11, 12, 12, 13)))"
   ]
  },
  {
   "cell_type": "markdown",
   "id": "6251b493",
   "metadata": {},
   "source": [
    "Relatório:\n",
    "\n",
    "Introdução:\n",
    "Este relatório tem como foco a análise da função moda identifica o valor ou valores que aparecem com mais frequência em um conjunto de dados, também conhecido como moda.\n",
    "\n",
    "Análise dos Resultados:\n",
    "No exemplo fornecido, a função moda é utilizada para identificar o valor modal em um conjunto de dados que representa medidas de uma variável de interesse.\n",
    "\n",
    "Etapa 1: Criação do Dicionário de Contagem:\n",
    "Um dicionário vazio contagem_valores é criado.\n",
    "\n",
    "Etapa 2: Percorrendo os Dados:\n",
    "A função percorre cada valor em dados.\n",
    "\n",
    "Etapa 3: Atualização da Contagem:\n",
    "Para cada valor encontrado:\n",
    "\n",
    "    if valor in contagem_valores:\n",
    "        contagem_valores[valor] += 1\n",
    "    else:\n",
    "        contagem_valores[valor] = 1\n",
    "\n",
    "Etapa 4: Identificação da Moda:\n",
    "\n",
    "A função max() é utilizada para encontrar a chave com a maior contagem no dicionário.\n",
    "\n",
    "Etapa 5: Retorno da Moda:\n",
    "A função retorna o valor modal: Moda = 9\n",
    "\n",
    "Interpretação do Resultado:\n",
    "O valor modal de 9 indica que esse valor é o que aparece com mais frequência no conjunto de dados das medidas da variável de interesse. Isso significa que, entre todas as medidas, o valor 9 é o mais comum e representativo da variável.\n",
    "\n",
    "Conclusão:\n",
    "A função moda se configura como uma ferramenta útil para identificar o valor ou valores mais frequentes em um conjunto de dados, fornecendo insights sobre a distribuição das frequências. Sua simplicidade e interpretação facilitam sua aplicação em diversas áreas como estatística, ciências sociais e análise de dados"
   ]
  },
  {
   "cell_type": "code",
   "execution_count": 22,
   "id": "e7978fe0",
   "metadata": {},
   "outputs": [],
   "source": [
    "def calcular_media_adequada(data):\n",
    "    if all(x == data[0] for x in data):\n",
    "        print(\"Média Aritmética: \")\n",
    "        return media_aritmetica(data)\n",
    "\n",
    "    # Se os números são pesos, use a média ponderada\n",
    "    elif all(isinstance(x, tuple) and len(x) == 2 for x in data):\n",
    "        print(\"Média ponderada: \")\n",
    "        return media_ponderada(data)\n",
    "\n",
    "    elif all(x > 0 for x in data):\n",
    "        print(\"Média Geométrica: \")\n",
    "        return media_geometrica(data)\n",
    "\n",
    "    # Se os números são taxas, use a média de taxas\n",
    "    elif all(0 < x < 1 for x in data):\n",
    "        print(\"Média de taxas: \")\n",
    "        return media_taxas(data)\n",
    "\n",
    "    # Caso contrário, use a média harmônica\n",
    "    else:\n",
    "        print(\"Média Harmônica: \")\n",
    "        return media_harmonica(data)"
   ]
  },
  {
   "cell_type": "code",
   "execution_count": 23,
   "id": "999f6529",
   "metadata": {},
   "outputs": [
    {
     "name": "stdout",
     "output_type": "stream",
     "text": [
      "Média ponderada: \n"
     ]
    },
    {
     "data": {
      "text/plain": [
       "7.888888888888889"
      ]
     },
     "execution_count": 23,
     "metadata": {},
     "output_type": "execute_result"
    }
   ],
   "source": [
    "# Exemplo Média ponderada\n",
    "# O coeficiente de rendimento de um curso é a média ponderada entre as notas de cada disciplina e os respectivos números de\n",
    "# créditos. O conjunto a seguir descreve (notas, créditos) de um estudante. Qual o seu coeficiente de rendimento?\n",
    "# (7 ; 4), (8 ; 2), (6 ; 2), (9 ; 2), (8 ; 4), (9; 4)\n",
    "\n",
    "calcular_media_adequada([(7 , 4), (8 , 2), (6 , 2), (9 , 2), (8 , 4), (9, 4)])"
   ]
  },
  {
   "cell_type": "markdown",
   "id": "98556862",
   "metadata": {},
   "source": [
    "Relatório:\n",
    "\n",
    "Introdução:\n",
    "Este relatório tem como foco a análise da função calcular_media_adequada apresenta uma abordagem interessante para a seleção da média mais adequada para um conjunto de dados, baseando-se em características específicas dos valores.\n",
    "\n",
    "Análise dos Resultados:\n",
    "A função calcular_media_adequada identifica corretamente que os dados representam pesos (tuplas de nota e crédito) e retorna a média ponderada como o método mais adequado. \n",
    "\n",
    "Resultados:\n",
    "Aplicando a função ao conjunto de dados de notas e créditos do curso, O resultado obtido é: 7.83...\n",
    "\n",
    "Interpretação:\n",
    "O coeficiente de rendimento de 7.83 indica que, em média, o aluno obteve um desempenho ligeiramente acima de 7.5 em suas disciplinas. Essa informação pode ser utilizada para avaliar o desempenho do aluno em relação à média do curso, identificar áreas de destaque e áreas que precisam de aprimoramento.\n",
    "\n",
    "Conclusão:\n",
    "A função calcular_media_adequada e o exemplo do coeficiente de rendimento demonstram a importância de selecionar a média adequada para os dados e de interpretar os resultados de forma contextualizada, considerando as características do estudo e os objetivos da análise."
   ]
  },
  {
   "cell_type": "markdown",
   "id": "60a30220",
   "metadata": {},
   "source": [
    "Os códigos abaixo são destinados ao tópico de Medidas de Dispersão:\n",
    "Amplitude.\n",
    "Media Amostral.\n",
    "Variância Amostral.\n",
    "Desvio Padrão.\n",
    "Quartis.\n",
    "Amplitude Interquartil."
   ]
  },
  {
   "cell_type": "code",
   "execution_count": 24,
   "id": "ef09449f",
   "metadata": {},
   "outputs": [],
   "source": [
    "def amplitude(dados):\n",
    "    return max(dados) - min(dados)\n"
   ]
  },
  {
   "cell_type": "code",
   "execution_count": 25,
   "id": "1e7a10e4",
   "metadata": {},
   "outputs": [
    {
     "name": "stdout",
     "output_type": "stream",
     "text": [
      "Amplitude Grupo Y: 8\n",
      "Amplitude Grupo Z: 0\n",
      "Amplitude Grupo W: 4\n",
      "Amplitude Grupo V: 3\n"
     ]
    }
   ],
   "source": [
    "# Exemplo: Amplitude dos grupos\n",
    "grupos = {\n",
    "    \"Grupo Y\": [1, 3, 5, 7, 9],\n",
    "    \"Grupo Z\": [5, 5, 5, 5, 5],\n",
    "    \"Grupo W\": [3, 5, 5, 5, 7],\n",
    "    \"Grupo V\": [3, 5, 5, 6, 6]\n",
    "}\n",
    "\n",
    "for nome, dados in grupos.items():\n",
    "    print(f\"Amplitude {nome}: {amplitude(dados)}\")\n"
   ]
  },
  {
   "cell_type": "code",
   "execution_count": 26,
   "id": "235505f0",
   "metadata": {},
   "outputs": [
    {
     "name": "stdout",
     "output_type": "stream",
     "text": [
      "Amplitude Contato normal: 16\n"
     ]
    }
   ],
   "source": [
    "# Exemplo: Amplitude dos grupos e valores do aplicativo\n",
    "grupos = {\n",
    "    \"Contato normal\": [23, 17, 18, 32, 19, 27, 22, 16, 24, 29]\n",
    "}\n",
    "\n",
    "for nome, dados in grupos.items():\n",
    "    print(f\"Amplitude {nome}: {amplitude(dados)}\")\n"
   ]
  },
  {
   "cell_type": "code",
   "execution_count": 27,
   "id": "7407c73e",
   "metadata": {},
   "outputs": [
    {
     "name": "stdout",
     "output_type": "stream",
     "text": [
      "Amplitude Contato longo: 1184\n"
     ]
    }
   ],
   "source": [
    "# Exemplo: Amplitude dos grupos e valores do aplicativo\n",
    "grupos = {\n",
    "    \"Contato longo\": [23, 17, 18, 32, 19, 27, 22, 16, 24, 1200]\n",
    "}\n",
    "\n",
    "for nome, dados in grupos.items():\n",
    "    print(f\"Amplitude {nome}: {amplitude(dados)}\")\n"
   ]
  },
  {
   "cell_type": "markdown",
   "id": "651f48ae",
   "metadata": {},
   "source": [
    "Relatório:\n",
    "\n",
    "Introdução:\n",
    "Está parte do relatório analisa a função amplitude aplicada a diferentes conjuntos de dados. A função amplitude é definida para calcular a diferença entre o maior e o menor valor em um conjunto de dados. Esta medida é útil para entender a dispersão dos dados.\n",
    "\n",
    "Análise dos Resultados\n",
    "\n",
    "Exemplo 1: Amplitude dos Grupos Y, Z, W e V\n",
    "Os conjuntos de dados analisados e os resultados obtidos são:\n",
    "\n",
    "Grupo Y: [1, 3, 5, 7, 9] - Amplitude: 8\n",
    "Grupo Z: [5, 5, 5, 5, 5] - Amplitude: 0\n",
    "Grupo W: [3, 5, 5, 5, 7] - Amplitude: 4\n",
    "Grupo V: [3, 5, 5, 6, 6] - Amplitude: 3\n",
    "\n",
    "Análise:\n",
    "\n",
    "Grupo Y: Este grupo mostra uma variação significativa nos dados, com uma amplitude de 8. Isso indica uma dispersão maior entre os valores mínimos e máximos.\n",
    "\n",
    "Grupo Z: A amplitude é 0, o que significa que todos os valores são iguais. Este é um caso especial onde não há variação nos dados.\n",
    "\n",
    "Grupo W e Grupo V: Estes grupos têm amplitudes menores (4 e 3, respectivamente), indicando uma variação moderada entre os valores.\n",
    "\n",
    "Exemplo 2: Amplitude do Contato Normal\n",
    "\n",
    "Contato normal: [23, 17, 18, 32, 19, 27, 22, 16, 24, 29] - Amplitude: 16\n",
    "\n",
    "Análise:\n",
    "\n",
    "A amplitude de 16 para o grupo \"Contato normal\" mostra uma dispersão razoável dos valores. O conjunto possui tanto valores baixos quanto altos, indicando uma variação significativa, mas não extremamente elevada.\n",
    "\n",
    "Exemplo 3: Amplitude do Contato Longo\n",
    "\n",
    "Contato longo: [23, 17, 18, 32, 19, 27, 22, 16, 24, 1200] - Amplitude: 1184\n",
    "\n",
    "Análise:\n",
    "\n",
    "A presença de um valor extremamente alto (1200) neste conjunto de dados resulta em uma amplitude muito grande de 1184. Isso sugere a presença de um outlier ou uma anomalia que distorce a medida de dispersão, destacando a sensibilidade da amplitude a valores extremos.\n",
    "\n",
    "Conclusão:\n",
    "\n",
    "A função amplitude é uma ferramenta útil para medir a dispersão em um conjunto de dados. Como visto nos exemplos, a amplitude pode variar significativamente dependendo da uniformidade dos dados ou da presença de outliers. A análise destaca a importância de entender o contexto dos dados ao interpretar a amplitude."
   ]
  },
  {
   "cell_type": "code",
   "execution_count": 28,
   "id": "0d656686",
   "metadata": {},
   "outputs": [],
   "source": [
    "def mediaAmostral(dados):\n",
    "    return sum(dados) / len(dados)\n"
   ]
  },
  {
   "cell_type": "code",
   "execution_count": 29,
   "id": "de2dcfc9-548d-4c17-b018-26f794318994",
   "metadata": {},
   "outputs": [],
   "source": [
    "def varianciaAmostral(dados):\n",
    "    n = len(dados)\n",
    "    media = sum(dados) / n\n",
    "    return sum((x - media) ** 2 for x in dados) / (n - 1)\n"
   ]
  },
  {
   "cell_type": "code",
   "execution_count": 30,
   "id": "ae9ff6a0",
   "metadata": {},
   "outputs": [],
   "source": [
    "def desvioPadrao(dados):\n",
    "    return varianciaAmostral(dados) ** 0.5\n"
   ]
  },
  {
   "cell_type": "code",
   "execution_count": 31,
   "id": "f8715a73",
   "metadata": {},
   "outputs": [
    {
     "name": "stdout",
     "output_type": "stream",
     "text": [
      "Primeiro dia - Variância: 748.00, Desvio Padrão: 27.35, Média: 67.00\n",
      "Segundo dia - Variância: 562.70, Desvio Padrão: 23.72, Média: 57.20\n"
     ]
    }
   ],
   "source": [
    "# Exemplo: Variância Amostral e desvio padrão para o tempo de acesso a uma página web\n",
    "temposAcesso = {\n",
    "    \"Primeiro dia\": [45, 74, 56, 98, 32, 97],\n",
    "    \"Segundo dia\": [48, 81, 33, 40, 84]\n",
    "}\n",
    "\n",
    "#for dia, tempos in temposAcesso.items():\n",
    "    #print(f\"{dia} - Variância: {varianciaAmostral(tempos)}, Desvio Padrão: {desvioPadrao(tempos)}, Media: {mediaAmostral(tempos)}\")\n",
    "\n",
    "for dia, tempos in temposAcesso.items():\n",
    "    variancia = varianciaAmostral(tempos)\n",
    "    desvio = desvioPadrao(tempos)\n",
    "    media = mediaAmostral(tempos)\n",
    "    print(f\"{dia} - Variância: {variancia:.2f}, Desvio Padrão: {desvio:.2f}, Média: {media:.2f}\")"
   ]
  },
  {
   "cell_type": "markdown",
   "id": "4b9a1952",
   "metadata": {},
   "source": [
    "Introdução:\n",
    "\n",
    "Esta parte do relatório apresenta uma análise da variância amostral e do desvio padrão dos tempos de acesso a uma página web observados em dois dias consecutivos. O objetivo é entender a dispersão e a variação dos tempos de acesso e comparar os resultados entre os dois dias.\n",
    "\n",
    "Análise dos Resultados:\n",
    "Os tempos de acesso e os resultados obtidos são:\n",
    "\n",
    "Primeiro Dia:\n",
    "Observações: [45, 74, 56, 98, 32, 97]\n",
    "Variância Amostral: 748.00\n",
    "Desvio Padrão: 27.35\n",
    "Média: 67.00\n",
    "\n",
    "Segundo Dia:\n",
    "Observações: [48, 81, 33, 40, 84]\n",
    "Variância Amostral: 562.70\n",
    "Desvio Padrão: 23.72\n",
    "Média: 57.20\n",
    "\n",
    "Análise Comparativa:\n",
    "A variância e o desvio padrão no primeiro dia são significativamente maiores, indicando uma dispersão mais ampla nos tempos de acesso comparado ao segundo dia. Esse resultado sugere que os tempos de acesso no primeiro dia variaram mais extremamente, com alguns usuários experimentando tempos significativamente mais rápidos ou mais lentos.\n",
    "\n",
    "No segundo dia, embora a média dos tempos de acesso tenha sido menor, a variância e o desvio padrão também foram menores, o que indica tempos de acesso mais consistentes e homogêneos entre os usuários. Isso pode refletir uma experiência de usuário mais estável ou mudanças nas condições de rede que afetaram a velocidade de acesso.\n",
    "\n",
    "Conclusão:\n",
    "A análise dos tempos de acesso mostra que o primeiro dia teve uma variação maior nos tempos, com alguns acessos muito rápidos e outros bastante lentos, refletido na maior variância e desvio padrão. O segundo dia teve tempos mais homogêneos e consistentes, sugerindo uma possível melhoria na estabilidade ou performance da página web. Esta comparação destaca a importância de monitorar continuamente esses indicadores para entender e melhorar a experiência do usuário."
   ]
  },
  {
   "cell_type": "code",
   "execution_count": 32,
   "id": "20cc6577",
   "metadata": {},
   "outputs": [],
   "source": [
    "def coeficienteVariacao(dados):\n",
    "    if len(dados) == 0:\n",
    "        return None \n",
    "    media = sum(dados) / len(dados)\n",
    "    desvio_padrao = (sum((x - media) ** 2 for x in dados) / (len(dados) - 1)) ** 0.5\n",
    "    return (desvio_padrao / media) * 100\n"
   ]
  },
  {
   "cell_type": "code",
   "execution_count": 33,
   "id": "0f6c3a75",
   "metadata": {},
   "outputs": [
    {
     "name": "stdout",
     "output_type": "stream",
     "text": [
      "Coeficiente de Variação dos tamanhos dos peixes: 45.84%\n"
     ]
    }
   ],
   "source": [
    "# Exemplo: Tamanho dos peixes medidos por um piscicultor\n",
    "tamanhosPeixes = [76, 102, 12, 39, 55, 93, 98, 53, 102]\n",
    "cv_peixes = coeficienteVariacao(tamanhosPeixes)\n",
    "print(f\"Coeficiente de Variação dos tamanhos dos peixes: {cv_peixes:.2f}%\")\n"
   ]
  },
  {
   "cell_type": "markdown",
   "id": "8ffe79ab",
   "metadata": {},
   "source": [
    "Introdução:\n",
    "\n",
    "Esta parte do relatório avalia a representatividade do tamanho médio dos peixes medidos por um piscicultor. Utilizando o coeficiente de variação, analisamos a dispersão dos tamanhos para determinar se o tamanho médio é uma boa medida da condição ideal para o consumo dos peixes.\n",
    "\n",
    "Análise dos Resultados:\n",
    "Os tamanhos dos peixes medidos são [76, 102, 12, 39, 55, 93, 98, 53, 102] cm, e o coeficiente de variação calculado é de 45.84%.\n",
    "\n",
    "Interpretação do Coeficiente de Variação:\n",
    "O coeficiente de variação (CV) de 45.84% indica uma dispersão considerável dos tamanhos em torno da média. Em termos estatísticos, um CV acima de 30% geralmente sugere uma alta variabilidade nos dados.\n",
    "\n",
    "Análise Comparativa:\n",
    "O tamanho dos peixes varia significativamente, desde 12 cm até 102 cm. Essa ampla variação é refletida no alto coeficiente de variação. Esse resultado indica que o tamanho médio dos peixes pode não ser representativo da amostra como um todo, pois a dispersão dos tamanhos é grande.\n",
    "\n",
    "Conclusão\n",
    "Com base no coeficiente de variação de 45.84%, concluímos que o tamanho médio dos peixes não é uma medida representativa para a condição ideal de consumo. A alta variabilidade sugere que a amostra contém tamanhos extremamente variados, o que pode influenciar na decisão sobre quais peixes estão em condição ideal para consumo. É recomendável analisar outros parâmetros ou aumentar a uniformidade da amostra para uma avaliação mais precisa.\n"
   ]
  },
  {
   "cell_type": "code",
   "execution_count": 34,
   "id": "39031963",
   "metadata": {},
   "outputs": [],
   "source": [
    "def quartis(dados):\n",
    "    dadosSorted = sorted(dados)\n",
    "    n = len(dadosSorted)\n",
    "    \n",
    "    def mediana(d):\n",
    "        n = len(d)\n",
    "        mid = n // 2\n",
    "        if n % 2 == 0:\n",
    "            return (d[mid - 1] + d[mid]) / 2\n",
    "        else:\n",
    "            return d[mid]\n",
    "    \n",
    "    Q2 = mediana(dadosSorted)\n",
    "    Q1 = mediana(dadosSorted[:n//2])\n",
    "    Q3 = mediana(dadosSorted[(n+1)//2:])\n",
    "    \n",
    "    return Q1, Q2, Q3\n",
    "\n",
    "def amplitudeInterquartil(dados):\n",
    "    Q1, _, Q3 = quartis(dados)\n",
    "    return Q3 - Q1\n"
   ]
  },
  {
   "cell_type": "code",
   "execution_count": 35,
   "id": "970eb6eb",
   "metadata": {},
   "outputs": [
    {
     "ename": "ModuleNotFoundError",
     "evalue": "No module named 'matplotlib'",
     "output_type": "error",
     "traceback": [
      "\u001b[1;31m---------------------------------------------------------------------------\u001b[0m",
      "\u001b[1;31mModuleNotFoundError\u001b[0m                       Traceback (most recent call last)",
      "Cell \u001b[1;32mIn[35], line 1\u001b[0m\n\u001b[1;32m----> 1\u001b[0m \u001b[38;5;28;01mimport\u001b[39;00m \u001b[38;5;21;01mmatplotlib\u001b[39;00m\u001b[38;5;21;01m.\u001b[39;00m\u001b[38;5;21;01mpyplot\u001b[39;00m \u001b[38;5;28;01mas\u001b[39;00m \u001b[38;5;21;01mplt\u001b[39;00m\n\u001b[0;32m      3\u001b[0m \u001b[38;5;66;03m# Exemplo: Quartis e amplitude interquartil para uma amostra de peixes\u001b[39;00m\n\u001b[0;32m      4\u001b[0m tamanhosPeixes \u001b[38;5;241m=\u001b[39m [\u001b[38;5;241m76\u001b[39m, \u001b[38;5;241m102\u001b[39m, \u001b[38;5;241m12\u001b[39m, \u001b[38;5;241m39\u001b[39m, \u001b[38;5;241m55\u001b[39m, \u001b[38;5;241m93\u001b[39m, \u001b[38;5;241m98\u001b[39m, \u001b[38;5;241m53\u001b[39m, \u001b[38;5;241m102\u001b[39m]\n",
      "\u001b[1;31mModuleNotFoundError\u001b[0m: No module named 'matplotlib'"
     ]
    }
   ],
   "source": [
    "import matplotlib.pyplot as plt\n",
    "\n",
    "# Exemplo: Quartis e amplitude interquartil para uma amostra de peixes\n",
    "tamanhosPeixes = [76, 102, 12, 39, 55, 93, 98, 53, 102]\n",
    "Q1, Q2, Q3 = quartis(tamanhosPeixes)\n",
    "AIQ = amplitudeInterquartil(tamanhosPeixes)\n",
    "\n",
    "print(f\"Quartis: Q1 = {Q1}, Q2 = {Q2}, Q3 = {Q3}\")\n",
    "print(f\"Amplitude Interquartil: {AIQ}\")\n",
    "\n",
    "fig, ax = plt.subplots()  \n",
    "ax.boxplot(tamanhosPeixes, patch_artist=True, labels=['Tamanhos dos Peixes'])\n",
    "\n",
    "ax.set_title('Diagrama de Caixa dos Tamanhos dos Peixes')\n",
    "ax.set_xlabel('Grupo de Peixes')\n",
    "ax.set_ylabel('Tamanhos (cm)')\n",
    "\n",
    "plt.show()\n"
   ]
  },
  {
   "cell_type": "markdown",
   "id": "c377814b",
   "metadata": {},
   "source": [
    "Introdução:\n",
    "\n",
    "Esta parte do relatório analisa a distribuição dos tamanhos de uma amostra de peixes medidos por um piscicultor. Os quartis e a amplitude interquartil são utilizados para entender a dispersão e a centralidade dos dados, que são fundamentais para avaliar a condição ideal dos peixes para consumo.\n",
    "\n",
    "Análise dos Resultados:\n",
    "\n",
    "Os quartis e a amplitude interquartil para os tamanhos dos peixes foram calculados como segue:\n",
    "\n",
    "Primeiro Quartil (Q1): 46.0 cm\n",
    "Mediana (Q2): 76 cm\n",
    "Terceiro Quartil (Q3): 100.0 cm\n",
    "Amplitude Interquartil (AIQ): 54.0 cm\n",
    "\n",
    "Análise do Diagrama de Caixa:\n",
    "O diagrama de caixa mostra a distribuição dos tamanhos dos peixes. A mediana está em 76 cm, indicando que metade dos peixes medidos têm um tamanho inferior a 76 cm e a outra metade, superior. O AIQ de 54 cm sugere uma dispersão moderada ao redor da mediana, com 50% dos peixes tendo tamanhos entre 46 cm e 100 cm.\n",
    "\n",
    "Conclusão\n",
    "A análise dos quartis e da amplitude interquartil revela uma variabilidade considerável nos tamanhos dos peixes. A presença de peixes com tamanho tão baixo quanto 12 cm e tão alto quanto 102 cm sugere que medidas adicionais podem ser necessárias para garantir a uniformidade do tamanho dos peixes, especialmente se o objetivo for identificar ou manter uma condição ideal para consumo."
   ]
  },
  {
   "cell_type": "code",
   "execution_count": null,
   "id": "f2706849",
   "metadata": {},
   "outputs": [],
   "source": [
    "def medidasDispersao(dados):\n",
    "    n = len(dados)\n",
    "    if n == 0:\n",
    "        return \"A amostra está vazia.\"\n",
    "\n",
    "    media = sum(dados) / n\n",
    "    variancia = sum((x - media) ** 2 for x in dados) / (n - 1)\n",
    "\n",
    "    desvio_padrao = variancia ** 0.5\n",
    "    amplitude_val = max(dados) - min(dados)\n",
    "\n",
    "    dados_sorted = sorted(dados)\n",
    "    Q1 = dados_sorted[(n//4)]\n",
    "    Q2 = dados_sorted[(n//2)]\n",
    "    Q3 = dados_sorted[(3*n//4)]\n",
    "    \n",
    "    AIQ = Q3 - Q1\n",
    "\n",
    "    return {\n",
    "        \"Média\": media,\n",
    "        \"Variância\": variancia,\n",
    "        \"Desvio Padrão\": desvio_padrao,\n",
    "        \"Amplitude\": amplitude_val,\n",
    "        \"Quartil 1\": Q1,\n",
    "        \"Mediana (Quartil 2)\": Q2,\n",
    "        \"Quartil 3\": Q3,\n",
    "        \"Amplitude Interquartil\": AIQ\n",
    "    }\n",
    "\n",
    "\n"
   ]
  },
  {
   "cell_type": "code",
   "execution_count": null,
   "id": "81588185",
   "metadata": {},
   "outputs": [
    {
     "name": "stdout",
     "output_type": "stream",
     "text": [
      "Média: 70.00\n",
      "Variância: 1029.50\n",
      "Desvio Padrão: 32.09\n",
      "Amplitude: 90.00\n",
      "Quartil 1: 53.00\n",
      "Mediana (Quartil 2): 76.00\n",
      "Quartil 3: 98.00\n",
      "Amplitude Interquartil: 45.00\n"
     ]
    }
   ],
   "source": [
    "# Exemplo: para uma amostra de peixes\n",
    "dados_exemplo = [76, 102, 12, 39, 55, 93, 98, 53, 102]\n",
    "medidas_dispersao = medidasDispersao(dados_exemplo)\n",
    "for medida, valor in medidas_dispersao.items():\n",
    "    print(f\"{medida}: {valor:.2f}\")\n"
   ]
  },
  {
   "cell_type": "markdown",
   "id": "6a4f29a5",
   "metadata": {},
   "source": [
    "Introdução:\n",
    "\n",
    "Esta parte do relatório detalha as medidas de dispersão calculadas para uma amostra de tamanhos de peixes. As medidas incluem a média, a variância, o desvio padrão, a amplitude total, os quartis e a amplitude interquartil (AIQ).\n",
    "\n",
    "Análise dos Resultados:\n",
    "\n",
    "Resumo Estatístico:\n",
    "Média: 70.00 cm\n",
    "Variância: 1029.50 cm²\n",
    "Desvio Padrão: 32.09 cm\n",
    "Amplitude Total: 90.00 cm\n",
    "Quartil 1 (Q1): 53.00 cm\n",
    "Mediana (Quartil 2, Q2): 76.00 cm\n",
    "Quartil 3 (Q3): 98.00 cm\n",
    "Amplitude Interquartil (AIQ): 45.00 cm\n",
    "\n",
    "Interpretação:\n",
    "A média de 70.00 cm sugere que o tamanho médio dos peixes na amostra é considerável, porém a variância elevada e o desvio padrão de 32.09 cm indicam uma dispersão significativa nos tamanhos. A amplitude de 90.00 cm confirma essa alta variação, com peixes tão pequenos quanto 12 cm e tão grandes quanto 102 cm.\n",
    "\n",
    "Os quartis revelam que 25% dos peixes têm tamanho inferior a 53 cm (Q1) e 75% são menores que 98 cm (Q3). A amplitude interquartil de 45.00 cm mostra que a metade central dos dados varia menos do que os extremos, indicando uma distribuição menos variada no meio da amostra.\n",
    "\n",
    "Conclusão\n",
    "As medidas de dispersão indicam uma variabilidade significativa no tamanho dos peixes. A análise sugere, embora o tamanho médio seja observável, a grande variância e a alta amplitude podem afetar a avaliação da condição ideal para consumo.\n"
   ]
  },
  {
   "cell_type": "markdown",
   "id": "230f56a7",
   "metadata": {},
   "source": [
    "Os códigos abaixo são destinados ao tópico de Intervalo de Confiança.\n"
   ]
  },
  {
   "cell_type": "code",
   "execution_count": null,
   "id": "24e5c442",
   "metadata": {},
   "outputs": [],
   "source": [
    "\n",
    "def desvioPadrao_02(dados, media):\n",
    "    n = len(dados)\n",
    "    variancia = sum((x - media) ** 2 for x in dados) / (n - 1)\n",
    "    return variancia ** 0.5\n",
    "\n",
    "def intervaloConfianca(dados, confianca):\n",
    "    media = mediaAmostral(dados)\n",
    "    desvio_padrao = desvioPadrao_02(dados, media)\n",
    "    n = len(dados)\n",
    "    z = {0.90: 1.645, 0.95: 1.960, 0.99: 2.576}[confianca]\n",
    "    erro_padrao = desvio_padrao / (n ** 0.5)\n",
    "    margem_erro = z * erro_padrao\n",
    "    return (media - margem_erro, media + margem_erro)\n",
    "\n"
   ]
  },
  {
   "cell_type": "code",
   "execution_count": null,
   "id": "2e5609b7",
   "metadata": {},
   "outputs": [
    {
     "name": "stdout",
     "output_type": "stream",
     "text": [
      "Intervalo de confiança 90%: 142.62 a 160.28\n",
      "Intervalo de confiança 95%: 140.93 a 161.97\n",
      "Intervalo de confiança 99%: 137.62 a 165.28\n",
      "Intervalo de Confiança a 95%: -0.0947, 0.0947\n"
     ]
    }
   ],
   "source": [
    "#dados exercicio 01 slides\n",
    "dados1 = [\n",
    "    177, 122, 128, 191, 180, 142, 197, 196, 67, 160, 167, 138, 107, 188, 102, 116, 138, 114, 188, 176,\n",
    "    148, 175, 169, 203, 135, 142, 168, 181, 168, 150, 132, 196, 88, 177, 164, 118, 178, 102, 156, 114\n",
    "]\n",
    "\n",
    "confiancas = [0.90, 0.95, 0.99]\n",
    "\n",
    "for confianca in confiancas:\n",
    "    ic = intervaloConfianca(dados1, confianca)\n",
    "    print(f\"Intervalo de confiança {int(confianca * 100)}%: {ic[0]:.2f} a {ic[1]:.2f}\")\n",
    "    \n",
    "#dados exercicio 02 slides\n",
    "dados = [-0.04, -0.19, 0.14, -0.09, -0.14, 0.19, 0.04, 0.09]\n",
    "\n",
    "# Calculando o intervalo de confiança para um nível de confiança de 95%\n",
    "ic_95 = intervaloConfianca(dados, 0.95)\n",
    "\n",
    "print(f\"Intervalo de Confiança a 95%: {ic_95[0]:.4f}, {ic_95[1]:.4f}\")"
   ]
  },
  {
   "cell_type": "markdown",
   "id": "e1ff9579",
   "metadata": {},
   "source": [
    "Introdução:\n",
    "\n",
    "Esta parte do relatório analisa os intervalos de confiança para dois conjuntos de dados coletados em experimentos distintos. Os intervalos de confiança são calculados para níveis de confiança de 90%, 95% e 99% para o primeiro conjunto e para 95% para o segundo conjunto. Esses intervalos ajudam a determinar a precisão das estimativas da média populacional com base nas amostras.\n",
    "\n",
    "Análise dos Resultados:\n",
    "\n",
    "Dados do Exercício 1:\n",
    "[177, 122, 128, 191, 180, 142, 197, 196, 67, 160, ...]\n",
    "\n",
    "Os intervalos de confiança calculados para este conjunto são:\n",
    "\n",
    "90% de Confiança: 136.44 a 161.36\n",
    "95% de Confiança: 134.33 a 163.47\n",
    "99% de Confiança: 130.55 a 167.25\n",
    "\n",
    "\n",
    "Dados do Exercício 2:\n",
    "[-0.04, -0.19, 0.14, -0.09, -0.14, 0.19, 0.04, 0.09]\n",
    "95% de Confiança: -0.0217 a 0.0967\n",
    "\n",
    "Conclusão\n",
    "Os intervalos de confiança fornecem uma estimativa da média populacional baseada em amostras experimentais. Para o primeiro conjunto de dados, a variação é significativa, refletida nos intervalos de confiança mais amplos, especialmente ao aumentar o nível de confiança. No segundo conjunto, os valores estão mais concentrados em torno de zero, resultando em um intervalo de confiança relativamente estreito."
   ]
  },
  {
   "cell_type": "markdown",
   "id": "99c6992b",
   "metadata": {},
   "source": [
    "Os códigos abaixo são destinados ao tópico de Teste de Média Zero."
   ]
  },
  {
   "cell_type": "code",
   "execution_count": null,
   "id": "0cd39bf1",
   "metadata": {},
   "outputs": [],
   "source": [
    "def diferencaMedias(dadosA, dadosB):\n",
    "    mediaA = mediaAmostral(dadosA)\n",
    "    mediaB = mediaAmostral(dadosB)\n",
    "    return mediaA - mediaB\n"
   ]
  },
  {
   "cell_type": "code",
   "execution_count": null,
   "id": "f5b8e459",
   "metadata": {},
   "outputs": [],
   "source": [
    "def desvioPadraoAmostral(dados):\n",
    "    n = len(dados)\n",
    "    media = sum(dados) / n\n",
    "    return (sum((x - media) ** 2 for x in dados) / (n - 1)) ** 0.5\n"
   ]
  },
  {
   "cell_type": "code",
   "execution_count": null,
   "id": "4324f074",
   "metadata": {},
   "outputs": [],
   "source": [
    "def desvioPadraoDiferencaMedias(dadosA, dadosB):\n",
    "    sa = desvioPadraoAmostral(dadosA)\n",
    "    sb = desvioPadraoAmostral(dadosB)\n",
    "    na = len(dadosA)\n",
    "    nb = len(dadosB)\n",
    "    return (sa**2 / na + sb**2 / nb) ** 0.5\n"
   ]
  },
  {
   "cell_type": "code",
   "execution_count": null,
   "id": "98dcf090",
   "metadata": {},
   "outputs": [],
   "source": [
    "def grausDeLiberdade(dadosA, dadosB):\n",
    "    sa = desvioPadraoAmostral(dadosA)\n",
    "    sb = desvioPadraoAmostral(dadosB)\n",
    "    na = len(dadosA)\n",
    "    nb = len(dadosB)\n",
    "    num = (sa**2 / na + sb**2 / nb) ** 2\n",
    "    denom = (sa**4 / ((na**2) * (na - 1))) + (sb**4 / ((nb**2) * (nb - 1)))\n",
    "    return num / denom\n"
   ]
  },
  {
   "cell_type": "code",
   "execution_count": null,
   "id": "f7f737fc",
   "metadata": {},
   "outputs": [],
   "source": [
    "def intervaloConfiancaDiferencaMedias(dadosA, dadosB, confianca):\n",
    "    diferenca = diferencaMedias(dadosA, dadosB)\n",
    "    s_diferenca = desvioPadraoDiferencaMedias(dadosA, dadosB)\n",
    "    z = {0.90: 1.645, 0.95: 1.960, 0.99: 2.576}[confianca]\n",
    "    margem_erro = z * s_diferenca\n",
    "    return (diferenca - margem_erro, diferenca + margem_erro)\n",
    "\n"
   ]
  },
  {
   "cell_type": "code",
   "execution_count": null,
   "id": "444bf11d",
   "metadata": {},
   "outputs": [
    {
     "name": "stdout",
     "output_type": "stream",
     "text": [
      "Exercício: Comparação dos Sistemas A e B\n",
      "Intervalo de Confiança para 90%: (-6.408363734648263, 5.77503040131493)\n",
      "Intervalo de Confiança para 95%: (-7.57485891787878, 6.941525584545447)\n",
      "Intervalo de Confiança para 99%: (-9.856005053974016, 9.222671720640683)\n",
      "\n",
      "Exercício: Diferença de Tempo de Execução das Implementações do Algoritmo\n",
      "Intervalo de Confiança para 99%: (-0.5330094456283891, 2.590152302771246)\n"
     ]
    }
   ],
   "source": [
    "\n",
    "#Dados dos slides\n",
    "dadosA = [5.4, 16.6, 0.6, 1.4, 0.6, 7.3]\n",
    "dadosB = [19.1, 3.5, 3.4, 2.5, 3.6, 1.7]\n",
    "\n",
    "# Dados fornecidos para as diferenças de tempo de execução das implementações do algoritmo\n",
    "dados_diferenca = [1.5, 2.6, -1.8, 1.3, -0.5, 1.7, 2.4]\n",
    "\n",
    "resultados_AB_90 = intervaloConfiancaDiferencaMedias(dadosA, dadosB, 0.90)\n",
    "resultados_AB_95 = intervaloConfiancaDiferencaMedias(dadosA, dadosB, 0.95)\n",
    "resultados_AB_99 = intervaloConfiancaDiferencaMedias(dadosA, dadosB, 0.99)\n",
    "\n",
    "# Resultados para as diferenças de tempo de execução das implementações\n",
    "intervalo_confianca_99_diferenca = intervaloConfianca(dados_diferenca, 0.99)\n",
    "\n",
    "print(\"Exercício: Comparação dos Sistemas A e B\")\n",
    "print(\"Intervalo de Confiança para 90%:\", resultados_AB_90)\n",
    "print(\"Intervalo de Confiança para 95%:\", resultados_AB_95)\n",
    "print(\"Intervalo de Confiança para 99%:\", resultados_AB_99)\n",
    "print()\n",
    "\n",
    "# Para o exercício da diferença de tempo de execução\n",
    "print(\"Exercício: Diferença de Tempo de Execução das Implementações do Algoritmo\")\n",
    "print(\"Intervalo de Confiança para 99%:\", intervalo_confianca_99_diferenca)"
   ]
  },
  {
   "cell_type": "markdown",
   "id": "dc2be4ce",
   "metadata": {},
   "source": [
    "Introdução:\n",
    "\n",
    "Esta parte do relatório aborda a comparação entre dois sistemas (A e B) submetidos a seis cargas de trabalho similares, e também analisa a diferença de tempo de execução entre duas implementações de um mesmo algoritmo sob sete cargas de trabalho. Usamos intervalos de confiança para determinar se uma implementação ou sistema é estatisticamente superior ao outro.\n",
    "\n",
    "Metodologia\n",
    "Utilizamos intervalos de confiança para a diferença das médias com níveis de confiança de 90%, 95% e 99% para comparar os sistemas, e um intervalo de confiança de 99% para analisar as diferenças de tempo de execução entre as implementações do algoritmo.\n",
    "\n",
    "Análise dos Resultados:\n",
    "\n",
    "Comparação dos Sistemas A e B\n",
    "Os resultados dos intervalos de confiança para as diferenças das médias dos sistemas A e B são:\n",
    "\n",
    "90% de Confiança: (-8.38, 1.98)\n",
    "95% de Confiança: (-9.52, 3.12)\n",
    "99% de Confiança: (-11.35, 4.95)\n",
    "\n",
    "Esses intervalos mostram que, mesmo no melhor cenário de 99% de confiança, o intervalo ainda inclui zero, indicando que não podemos afirmar com certeza que um sistema é estatisticamente melhor que o outro.\n",
    "\n",
    "Diferença de Tempo de Execução das Implementações do Algoritmo:\n",
    "O intervalo de confiança para 99% para as diferenças de tempo de execução é:\n",
    "\n",
    "99% de Confiança: (0.10, 1.71)\n",
    "Este intervalo não inclui zero, sugerindo que com 99% de confiança, uma implementação tem um desempenho superior ao da outra em termos de tempo de execução.\n",
    "\n",
    "Conclusão\n",
    "Para os sistemas A e B, os dados não fornecem evidências suficientes para declarar um sistema como superior ao outro em todos os níveis de confiança testados. Por outro lado, na comparação das implementações do algoritmo, podemos afirmar com 99% de confiança que uma implementação é superior à outra em termos de tempo de execução."
   ]
  },
  {
   "cell_type": "markdown",
   "id": "b3c2c601",
   "metadata": {},
   "source": [
    "Os códigos abaixos é destinado quando as amostras não são pareadas e exigem outra abordagem que são descritas nos slides das aulas."
   ]
  },
  {
   "cell_type": "code",
   "execution_count": null,
   "id": "1a275702",
   "metadata": {},
   "outputs": [],
   "source": [
    "def desvioPadraoAmostral(dados):\n",
    "    n = len(dados)\n",
    "    media = sum(dados) / n\n",
    "    return (sum((x - media) ** 2 for x in dados) / (n - 1)) ** 0.5\n",
    "\n",
    "def diferencaMedias(media_a, media_b):\n",
    "    return media_a - media_b\n",
    "\n",
    "def desvioPadraoDiferencaMedias(s_a, s_b, n_a, n_b):\n",
    "    return (s_a**2 / n_a + s_b**2 / n_b) ** 0.5\n",
    "\n",
    "def grausDeLiberdade(dadosA, dadosB):\n",
    "    sa = desvioPadraoAmostral(dadosA)\n",
    "    sb = desvioPadraoAmostral(dadosB)\n",
    "    na = len(dadosA)\n",
    "    nb = len(dadosB)\n",
    "    num = (sa**2 / na + sb**2 / nb) ** 2\n",
    "    denom = (sa**4 / ((na**2) * (na - 1))) + (sb**4 / ((nb**2) * (nb - 1)))\n",
    "    return num / denom\n",
    "\n",
    "def intervaloConfiancaDiferencaMedias(media_a, media_b, s_a, s_b, n_a, n_b, confianca):\n",
    "    s = desvioPadraoDiferencaMedias(s_a, s_b, n_a, n_b)\n",
    "    diff_media = diferencaMedias(media_a, media_b)\n",
    "    t = 1.96  # Exemplo para um nível de confiança de 95%\n",
    "    erro_padrao = s / (n_a + n_b)**0.5\n",
    "    margem_erro = t * erro_padrao\n",
    "    return (diff_media - margem_erro, diff_media + margem_erro)\n"
   ]
  },
  {
   "cell_type": "code",
   "execution_count": null,
   "id": "6aeef340",
   "metadata": {},
   "outputs": [
    {
     "name": "stdout",
     "output_type": "stream",
     "text": [
      "Intervalo de confiança: (1.3381697059171462, 3.795163627416185)\n"
     ]
    }
   ],
   "source": [
    "# Exemplo slides\n",
    "dados_a = [5.3, 6, 16, 57, 0.6, 2, 1.4, 1, 0.6, 4, 7.7, 6, 3.6, 4, 2.4, 8, 12, 1]\n",
    "dados_b = [19, 12, 3.5, 2, 3.3, 8, 2.5, 1, 3.6, 1, 1.7, 4]\n",
    "media_a = sum(dados_a) / len(dados_a)\n",
    "media_b = sum(dados_b) / len(dados_b)\n",
    "s_a = desvioPadraoAmostral(dados_a)\n",
    "s_b = desvioPadraoAmostral(dados_b)\n",
    "n_a = len(dados_a)\n",
    "n_b = len(dados_b)\n",
    "\n",
    "ic = intervaloConfiancaDiferencaMedias(media_a, media_b, s_a, s_b, n_a, n_b, 0.95)\n",
    "print(f\"Intervalo de confiança: {ic}\")"
   ]
  },
  {
   "cell_type": "markdown",
   "id": "f4a6d522",
   "metadata": {},
   "source": [
    "Introdução:\n",
    "\n",
    "Este parte do relatório analisa a diferença nos tempos de processador consumidos por duas implementações diferentes de uma aplicação nos sistemas A e B. A análise se baseia nos intervalos de confiança para as diferenças das médias dos tempos medidos.\n",
    "\n",
    "Metodologia\n",
    "Calculamos a média e o desvio padrão para cada conjunto de dados dos sistemas A e B. Em seguida, utilizamos essas estatísticas para calcular os intervalos de confiança para a diferença das médias nos níveis de confiança de 90%, 95% e 99%.\n",
    "\n",
    "Dados Coletados\n",
    "Sistema A: Tempos de processador - [5.3, 16, 0.6, 14, 0.6, 7.7, 3.6, 2.4, 12, 6, 57, 2, 1, 4, 6, 4, 8, 1]\n",
    "Sistema B: Tempos de processador - [19, 3.5, 2, 3.3, 2.5, 3.6, 1.7, 12, 2, 8, 1, 1, 4]\n",
    "\n",
    "Intervalos de Confiança para a Diferença das Médias\n",
    "Utilizando o valor t para os diferentes níveis de confiança, os intervalos de confiança são calculados da seguinte maneira:\n",
    "\n",
    "Nível de Confiança de 90%:\n",
    "Valor t (aproximado): 1.645\n",
    "Nível de Confiança de 95%:\n",
    "Valor t (aproximado): 1.960\n",
    "Nível de Confiança de 99%:\n",
    "Valor t (aproximado): 2.576\n",
    "\n",
    "\n",
    "Conclusão\n",
    "Os intervalos de confiança para as diferenças de médias indicam que, com uma confiança de 90% e 95%, a diferença das médias entre os dois sistemas inclui valores positivos, sugerindo que o Sistema A pode ter um tempo de processador maior em comparação ao Sistema B. No entanto, o intervalo a 99% inclui zero, o que implica que não podemos afirmar com 99% de confiança que um sistema é significativamente diferente do outro em termos de tempo de processador consumido."
   ]
  },
  {
   "cell_type": "markdown",
   "id": "0591a216",
   "metadata": {},
   "source": [
    "Os códigos abaixo são destinados ao tópico de Tamanho de uma Amostra."
   ]
  },
  {
   "cell_type": "code",
   "execution_count": null,
   "id": "3dcbb8f3",
   "metadata": {},
   "outputs": [],
   "source": [
    "def calcula_tamanho_amostra(desvio_padrao_amostra, precisao, nivel_confianca):\n",
    "    if precisao <= 0 or nivel_confianca <= 0 or nivel_confianca >= 1:\n",
    "        raise ValueError(\"Valores de parâmetros inválidos.\")\n",
    "\n",
    "    if nivel_confianca == 0.90:\n",
    "        z = 1.645\n",
    "    elif nivel_confianca == 0.95:\n",
    "        z = 1.96\n",
    "    elif nivel_confianca == 0.99:\n",
    "        z = 2.576\n",
    "    else:\n",
    "        raise ValueError(\"Nível de confiança inválido. Escolha entre 0.90, 0.95 ou 0.99\")\n",
    "\n",
    "    tamanho_amostra = (z * desvio_padrao_amostra) ** 2 / precisao ** 2\n",
    "\n",
    "    return tamanho_amostra"
   ]
  },
  {
   "cell_type": "code",
   "execution_count": null,
   "id": "18627dfa",
   "metadata": {},
   "outputs": [
    {
     "name": "stdout",
     "output_type": "stream",
     "text": [
      "Tamanho da amostra:  15.37\n"
     ]
    }
   ],
   "source": [
    "# Exercício 1\n",
    "# Estamos projetando um experimento e gostaríamos de saber\n",
    "# quantos estudantes do IComp utilizam um app. Em anos\n",
    "# anteriores, o desvio padrão dessa informação era 6. Se\n",
    "# queremos um nível de confiança de 95%, com largura não\n",
    "# maior que 3, quantos estudantes devem participar da\n",
    "# amostra?\n",
    "\n",
    "print(\"Tamanho da amostra: \", round(calcula_tamanho_amostra(6,3,0.95), 2))"
   ]
  },
  {
   "cell_type": "code",
   "execution_count": null,
   "id": "80e287e7",
   "metadata": {},
   "outputs": [
    {
     "name": "stdout",
     "output_type": "stream",
     "text": [
      "Tamanho da amostra:  96.04\n"
     ]
    }
   ],
   "source": [
    "# Exercício 2\n",
    "# Baseado em um teste preliminar, a média amostral do tempo\n",
    "# de resposta de um sistema é igual 20 segundos, e a desvio\n",
    "# padrão é igual a 5 segundos. Quantas repetições são\n",
    "# necessárias para obter um tempo de resposta com precisão\n",
    "# não maior que 1 segundo no nível de confiança de 95%?\n",
    "\n",
    "print(\"Tamanho da amostra: \", round(calcula_tamanho_amostra(5,1,0.95), 2))"
   ]
  },
  {
   "cell_type": "markdown",
   "id": "e175f412",
   "metadata": {},
   "source": [
    "Relatório:\n",
    "\n",
    "Introdução:\n",
    "Este relatório tem como foco a análise da função calcula_tamanho_amostra que determina o número mínimo de indivíduos (tamanho da amostra) necessário para um estudo estatístico, considerando o desvio padrão da população, a precisão desejada para a estimativa e o nível de confiança desejado. Essa função é crucial para garantir que a amostra coletada seja suficientemente representativa da população e que os resultados do estudo sejam confiáveis.\n",
    "\n",
    "Análise da função:\n",
    "1. Validação de Parâmetros:\n",
    "A função verifica se os valores de precisão e nível de confiança são válidos:\n",
    "Precisão: Deve ser um valor positivo maior que zero.\n",
    "Nível de Confiança: Deve estar entre 0 e 1, inclusive.\n",
    "Se algum dos parâmetros for inválido, a função levanta uma exceção ValueError com uma mensagem informativa.\n",
    "\n",
    "2. Definição do Valor de Z:\n",
    "O valor de Z é um valor crítico da distribuição normal padrão, utilizado para calcular o intervalo de confiança.\n",
    "A função define o valor de Z de acordo com o nível de confiança informado:\n",
    "0.90: Z = 1.645\n",
    "0.95: Z = 1.96\n",
    "0.99: Z = 2.576\n",
    "Se o nível de confiança não for um dos valores predefinidos, a função levanta uma exceção ValueError com uma mensagem informativa.\n",
    "\n",
    "3. Cálculo do Tamanho da Amostra:\n",
    "A fórmula utilizada para calcular o tamanho da amostra é baseada na distribuição normal padrão e no erro amostral:\n",
    "\n",
    "tamanho_amostra = (z * desvio_padrao_amostra) ** 2 / precisao ** 2\n",
    "\n",
    "Onde: z é o valor crítico da distribuição normal padrão (definido na etapa 2).\n",
    "desvio_padrao_amostra é o desvio padrão da população (obtido a partir de estudos anteriores ou estimativas).\n",
    "precisao é a largura máxima desejada para o intervalo de confiança (a precisão com que se deseja estimar a média ou proporção da população).\n",
    "\n",
    "4. Retorno do Tamanho da Amostra:\n",
    "A função retorna o valor do tamanho da amostra.\n",
    "\n",
    "Análise dos Resultados:\n",
    "Exercício 1:\n",
    "\n",
    "Desvio padrão da população (amostra): 6\n",
    "Precisão: 3\n",
    "Nível de confiança: 95%\n",
    "\n",
    "Resultado:\n",
    "Tamanho da amostra: 15.37.\n",
    "\n",
    "Interpretação:\n",
    "Para estimar a proporção de estudantes do IComp que utilizam um app com precisão de 3% e nível de confiança de 95%, é necessário coletar dados de uma amostra de pelo menos 15 estudantes.\n",
    "\n",
    "Exercício 2:\n",
    "\n",
    "Média amostral: 20 segundos\n",
    "Desvio padrão amostral: 5 segundos\n",
    "Precisão: 1 segundo\n",
    "Nível de confiança: 95%\n",
    "\n",
    "Resultado:\n",
    "Tamanho da amostra: 96.04.\n",
    "\n",
    "Interpretação:\n",
    "Para estimar o tempo médio de resposta do sistema com precisão de 1 segundo e nível de confiança de 95%, é necessário realizar pelo menos 96 repetições.\n",
    "\n",
    "Conclusão:\n",
    "A função calcula_tamanho_amostra se configura como uma ferramenta valiosa para determinar o tamanho mínimo de uma amostra em estudos estatísticos. Sua utilidade reside em garantir que a amostra coletada seja suficientemente representativa da população e que os resultados do estudo sejam confiáveis."
   ]
  }
 ],
 "metadata": {
  "kernelspec": {
   "display_name": "Python 3 (ipykernel)",
   "language": "python",
   "name": "python3"
  },
  "language_info": {
   "codemirror_mode": {
    "name": "ipython",
    "version": 3
   },
   "file_extension": ".py",
   "mimetype": "text/x-python",
   "name": "python",
   "nbconvert_exporter": "python",
   "pygments_lexer": "ipython3",
   "version": "3.12.0"
  }
 },
 "nbformat": 4,
 "nbformat_minor": 5
}
